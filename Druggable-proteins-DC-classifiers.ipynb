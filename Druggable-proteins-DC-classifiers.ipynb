{
 "cells": [
  {
   "cell_type": "markdown",
   "metadata": {},
   "source": [
    "# Pipelines for Druggable peptide classifiers using di-aminoacid composition descriptors (DC)\n",
    "\n",
    "For each dataset, classifier and folds:\n",
    "- scaling\n",
    "- feature selection\n",
    "- outerCV"
   ]
  },
  {
   "cell_type": "code",
   "execution_count": 114,
   "metadata": {},
   "outputs": [],
   "source": [
    "%reload_ext autoreload\n",
    "%autoreload 2\n",
    "%matplotlib inline\n",
    "\n",
    "# remove warnings\n",
    "import warnings\n",
    "warnings.filterwarnings(\"ignore\", category=DeprecationWarning) "
   ]
  },
  {
   "cell_type": "code",
   "execution_count": 115,
   "metadata": {},
   "outputs": [],
   "source": [
    "import numpy as np\n",
    "import pandas as pd\n",
    "import time\n",
    "import matplotlib.pyplot as plt\n",
    "\n",
    "from sklearn.pipeline import Pipeline\n",
    "from sklearn.model_selection import cross_val_score, GridSearchCV, StratifiedKFold\n",
    "from sklearn.metrics import confusion_matrix,accuracy_score, roc_auc_score,f1_score, recall_score, precision_score\n",
    "from sklearn.utils import class_weight\n",
    "\n",
    "from sklearn.neighbors import KNeighborsClassifier\n",
    "from sklearn.linear_model import LogisticRegression, LassoCV\n",
    "from sklearn.tree import DecisionTreeClassifier\n",
    "from sklearn.ensemble import RandomForestClassifier, ExtraTreesClassifier\n",
    "from xgboost import XGBClassifier\n",
    "from sklearn.svm import SVC\n",
    "from sklearn.gaussian_process.kernels import RBF\n",
    "from sklearn.svm import LinearSVC\n",
    "\n",
    "from sklearn.decomposition import PCA\n",
    "from sklearn.preprocessing import StandardScaler, MinMaxScaler, RobustScaler\n",
    "from sklearn.feature_selection import RFECV, VarianceThreshold, SelectKBest, chi2\n",
    "from sklearn.feature_selection import SelectFromModel, SelectPercentile, f_classif\n",
    "\n",
    "import seaborn as sns; sns.set() # data visualization library \n",
    "from sklearn.discriminant_analysis import LinearDiscriminantAnalysis\n",
    "from sklearn.neural_network import MLPClassifier\n",
    "from sklearn.ensemble import GradientBoostingClassifier, BaggingClassifier, AdaBoostClassifier\n",
    "from sklearn.naive_bayes import BernoulliNB, GaussianNB\n",
    "from imblearn.over_sampling import SMOTE"
   ]
  },
  {
   "cell_type": "markdown",
   "metadata": {},
   "source": [
    "### Define script parameters"
   ]
  },
  {
   "cell_type": "code",
   "execution_count": 118,
   "metadata": {},
   "outputs": [],
   "source": [
    "# define output variables\n",
    "outVars = ['Class']\n",
    "\n",
    "# define list of folds\n",
    "foldTypes = [3]\n",
    "\n",
    "# define a label for output files\n",
    "targetName = 'DC_Outer'\n",
    "\n",
    "seed = 28"
   ]
  },
  {
   "cell_type": "markdown",
   "metadata": {},
   "source": [
    "### Function definitions"
   ]
  },
  {
   "cell_type": "code",
   "execution_count": 119,
   "metadata": {},
   "outputs": [],
   "source": [
    "def  set_weights(y_data, option='balanced'):\n",
    "    \"\"\"Estimate class weights for umbalanced dataset\n",
    "       If ‘balanced’, class weights will be given by n_samples / (n_classes * np.bincount(y)). \n",
    "       If a dictionary is given, keys are classes and values are corresponding class weights. \n",
    "       If None is given, the class weights will be uniform \"\"\"\n",
    "    cw = class_weight.compute_class_weight(option, np.unique(y_data), y_data)\n",
    "    w = {i:j for i,j in zip(np.unique(y_data), cw)}\n",
    "    return w "
   ]
  },
  {
   "cell_type": "code",
   "execution_count": 120,
   "metadata": {},
   "outputs": [],
   "source": [
    "def DataCheckings(df):\n",
    "    # CHECKINGS ***************************\n",
    "    # Check the number of data points in the data set\n",
    "    print(\"\\nData points =\", len(df))\n",
    "    \n",
    "    # Check the number of columns in the data set\n",
    "    print(\"\\nColumns (output + features)=\",len(df.columns))\n",
    "    \n",
    "    # Check the data types\n",
    "    print(\"\\nData types =\", df.dtypes.unique())\n",
    "    \n",
    "    # Dataset statistics\n",
    "    print('\\n')\n",
    "    df.describe()\n",
    "    \n",
    "    # print names of columns\n",
    "    print('Column Names:\\n', df.columns)\n",
    "    \n",
    "    # see if there are categorical data\n",
    "    print(\"\\nCategorical features:\", df.select_dtypes(include=['O']).columns.tolist())\n",
    "    \n",
    "    # Check NA values\n",
    "    # Check any number of columns with NaN\n",
    "    print(\"\\nColumns with NaN: \", df.isnull().any().sum(), ' / ', len(df.columns))\n",
    "\n",
    "    # Check any number of data points with NaN\n",
    "    print(\"\\nNo of data points with NaN:\", df.isnull().any(axis=1).sum(), ' / ', len(df))"
   ]
  },
  {
   "cell_type": "code",
   "execution_count": 121,
   "metadata": {},
   "outputs": [],
   "source": [
    "def getDataFromDataset(sFile, OutVar):\n",
    "    # read details file\n",
    "    print('\\n-> Read dataset', sFile)\n",
    "    df = pd.read_csv(sFile)\n",
    "    #df = feather.read_dataframe(sFile)\n",
    "    \n",
    "    DataCheckings(df)\n",
    "    \n",
    "    # remove duplicates!\n",
    "    df.drop_duplicates(keep=False, inplace=True)\n",
    "    \n",
    "    print('Shape', df.shape)\n",
    "    # print(list(df.columns))\n",
    "\n",
    "    # select X and Y\n",
    "    ds_y = df[OutVar]\n",
    "    ds_X = df.drop(OutVar,axis = 1)\n",
    "    Xdata = ds_X.values # get values of features\n",
    "    Ydata = ds_y.values # get output values\n",
    "\n",
    "    print('Shape X data:', Xdata.shape)\n",
    "    print('Shape Y data:',Ydata.shape)\n",
    "    \n",
    "    # return data for X and Y, feature names as list\n",
    "    return (Xdata, Ydata, list(ds_X.columns))"
   ]
  },
  {
   "cell_type": "code",
   "execution_count": 122,
   "metadata": {},
   "outputs": [],
   "source": [
    "OutVar = outVars[0]\n",
    "folds  = foldTypes[0]"
   ]
  },
  {
   "cell_type": "code",
   "execution_count": 123,
   "metadata": {},
   "outputs": [
    {
     "name": "stdout",
     "output_type": "stream",
     "text": [
      "\n",
      "-> Read dataset ./datasets/ds.Class_DC.csv\n",
      "\n",
      "Data points = 885\n",
      "\n",
      "Columns (output + features)= 401\n",
      "\n",
      "Data types = [dtype('float64') dtype('int64')]\n",
      "\n",
      "\n",
      "Column Names:\n",
      " Index(['AA', 'RA', 'NA.', 'DA', 'CA', 'EA', 'QA', 'GA', 'HA', 'IA',\n",
      "       ...\n",
      "       'KV', 'MV', 'FV', 'PV', 'SV', 'TV', 'WV', 'YV', 'VV', 'Class'],\n",
      "      dtype='object', length=401)\n",
      "\n",
      "Categorical features: []\n",
      "\n",
      "Columns with NaN:  0  /  401\n",
      "\n",
      "No of data points with NaN: 0  /  885\n",
      "Shape (885, 401)\n",
      "Shape X data: (885, 400)\n",
      "Shape Y data: (885,)\n"
     ]
    }
   ],
   "source": [
    "# get data from file\n",
    "sFile = './datasets/ds.Class_DC.csv'\n",
    "Xdata, Ydata, Features = getDataFromDataset(sFile,OutVar)\n",
    "    \n",
    "smote = SMOTE(ratio='minority',random_state=seed)\n",
    "X_sm, y_sm = smote.fit_sample(Xdata, Ydata)"
   ]
  },
  {
   "cell_type": "code",
   "execution_count": 124,
   "metadata": {},
   "outputs": [
    {
     "data": {
      "image/png": "[encoded data removed]",
      "text/plain": [
       "<Figure size 432x288 with 1 Axes>"
      ]
     },
     "metadata": {},
     "output_type": "display_data"
    }
   ],
   "source": [
    "# unballanced dataset\n",
    "ax = sns.countplot(Ydata,label=\"Count\")      # count 1 and 0 in target"
   ]
  },
  {
   "cell_type": "code",
   "execution_count": 125,
   "metadata": {},
   "outputs": [
    {
     "data": {
      "image/png": "[encoded data removed]",
      "text/plain": [
       "<Figure size 432x288 with 1 Axes>"
      ]
     },
     "metadata": {},
     "output_type": "display_data"
    }
   ],
   "source": [
    "# ballanced dataset\n",
    "ax = sns.countplot(y_sm,label=\"Count\")      # count 1 and 0 in target"
   ]
  },
  {
   "cell_type": "code",
   "execution_count": 126,
   "metadata": {},
   "outputs": [
    {
     "data": {
      "text/plain": [
       "(1332, 400)"
      ]
     },
     "execution_count": 126,
     "metadata": {},
     "output_type": "execute_result"
    }
   ],
   "source": [
    "X_sm.shape"
   ]
  },
  {
   "cell_type": "markdown",
   "metadata": {},
   "source": [
    "You can load the ballanced dataset or skip this block:"
   ]
  },
  {
   "cell_type": "code",
   "execution_count": 49,
   "metadata": {},
   "outputs": [],
   "source": [
    "# save ballanced dataset\n",
    "df_balanced = pd.DataFrame(X_sm,columns=Features)\n",
    "df_balanced['Class']=y_sm\n",
    "df_balanced.to_csv('./datasets/ds.Class_DC_ballanced.csv', index=False)"
   ]
  },
  {
   "cell_type": "code",
   "execution_count": null,
   "metadata": {},
   "outputs": [],
   "source": []
  },
  {
   "cell_type": "markdown",
   "metadata": {},
   "source": [
    "The main ML pipeline code:"
   ]
  },
  {
   "cell_type": "code",
   "execution_count": 127,
   "metadata": {},
   "outputs": [],
   "source": [
    "def Pipeline_OuterCV(Xdata, Ydata, label = 'my', class_weights = {0: 1, 1: 1}, folds = 3, seed = 42):\n",
    "    # inputs:\n",
    "    # data for X, Y; a label about data, number of folds, seeed\n",
    "    \n",
    "    # default: 3-fold CV, 1:1 class weights (ballanced dataset)\n",
    "    \n",
    "    # define classifiers\n",
    "    names = ['NB','KNN','LDA','SVM linear','SVM','LR','MLP','DT','RF','XGB','GB','AdaB','Bagging'] \n",
    "    \n",
    "    \n",
    "    priors = [(class_weights[0]/(class_weights[0]+class_weights[1])), (class_weights[1]/(class_weights[0]+class_weights[1]))]\n",
    "    \n",
    "    neurons = Xdata.shape[1] # neurons for MLP = number of input features\n",
    "    \n",
    "    classifiers = [GaussianNB(),\n",
    "                   KNeighborsClassifier(3),\n",
    "                   LinearDiscriminantAnalysis(solver='svd',priors=priors), # No tiene random_state\n",
    "                   SVC(kernel=\"linear\",random_state=seed,gamma='scale',class_weight=class_weights),\n",
    "                   SVC(kernel = 'rbf', random_state=seed,gamma='scale',class_weight=class_weights),\n",
    "                   LogisticRegression(solver='lbfgs',random_state=seed,class_weight=class_weights),\n",
    "                   MLPClassifier(hidden_layer_sizes= (20), random_state = seed, max_iter=50000, shuffle=False),\n",
    "                   DecisionTreeClassifier(random_state = seed,class_weight=class_weights),\n",
    "                   RandomForestClassifier(n_jobs=-1,random_state=seed,class_weight=class_weights),\n",
    "                   XGBClassifier(n_jobs=-1,seed=seed,scale_pos_weight= class_weights[0]/class_weights[1]),\n",
    "                   GradientBoostingClassifier(random_state=seed),\n",
    "                   AdaBoostClassifier(random_state = seed),\n",
    "                   BaggingClassifier(random_state=seed)\n",
    "                  ]\n",
    "    # results dataframe: each column for a classifier\n",
    "    df_res = pd.DataFrame(columns=names)\n",
    "\n",
    "    # build each classifier\n",
    "    print('* Building scaling+feature selection+outer '+str(folds)+'-fold CV for '+str(len(names))+' classifiers:', str(names))\n",
    "    total = time.time()\n",
    "    \n",
    "    # define a fold-CV for all the classifier\n",
    "    outer_cv = StratifiedKFold(n_splits=folds,shuffle=True,random_state=seed)\n",
    "    \n",
    "    print('ML method, Mean, SD, Time (min)')\n",
    "    for name, clf in zip(names, classifiers):\n",
    "        start = time.time()\n",
    "        \n",
    "        # create pipeline: scaler + classifier\n",
    "        estimators = []\n",
    "        \n",
    "        # SCALER\n",
    "        # MinMaxScaler(), StandardScaler(), RobustScaler(), QuantileTransformer(), PowerTransformer()\n",
    "        estimators.append(( 'Scaler', StandardScaler() ))\n",
    "        \n",
    "        # FEATURE SELECTOR\n",
    "        \n",
    "        # estimators.append((  'FS', PCA(0.99)  )) # feature selection\n",
    "        #estimators.append((  'FS', PCA(n_components=200)  )) # feature selection\n",
    "        #estimators.append((  'FS', SelectPercentile(f_classif, percentile=50)  )) # feature selection\n",
    "        #estimators.append((  'FS', VarianceThreshold(threshold=0.5)  )) # feature selection\n",
    "        #estimators.append((  'FS', SelectFromModel(LinearSVC())  )) # feature selection \n",
    "        estimators.append((  'FS', SelectFromModel(LinearSVC(), max_features = 20,threshold=-np.inf)  ))\n",
    "        #estimators.append((  'FS', SelectFromModel(ExtraTreesClassifier(n_estimators=100))  )) # feature selection \n",
    "        \n",
    "        # add Classifier\n",
    "        estimators.append(('Classifier', clf)) \n",
    "        \n",
    "        # create pipeline\n",
    "        model = Pipeline(estimators)\n",
    "        \n",
    "        # evaluate pipeline\n",
    "        scores = cross_val_score(model, Xdata, Ydata, cv=outer_cv, scoring='roc_auc', n_jobs=-1)\n",
    "        \n",
    "        df_res[name] = scores\n",
    "        print('%s, %0.3f, %0.4f, %0.1f' % (name, scores.mean(), scores.std(), (time.time() - start)/60))\n",
    "        \n",
    "    print('Total time:', (time.time() - total)/60, ' mins')             \n",
    "    \n",
    "    # return AUC scores for all classifiers as dataframe (each column a classifier)\n",
    "    return df_res"
   ]
  },
  {
   "cell_type": "code",
   "execution_count": 128,
   "metadata": {
    "scrolled": true
   },
   "outputs": [
    {
     "name": "stdout",
     "output_type": "stream",
     "text": [
      "Class weights =  {0: 1.0, 1: 1.0}\n",
      "* Building scaling+feature selection+outer 3-fold CV for 13 classifiers: ['NB', 'KNN', 'LDA', 'SVM linear', 'SVM', 'LR', 'MLP', 'DT', 'RF', 'XGB', 'GB', 'AdaB', 'Bagging']\n",
      "ML method, Mean, SD, Time (min)\n",
      "NB, 0.782, 0.0131, 0.0\n",
      "KNN, 0.840, 0.0013, 0.0\n",
      "LDA, 0.788, 0.0064, 0.0\n",
      "SVM linear, 0.781, 0.0143, 0.0\n",
      "SVM, 0.895, 0.0103, 0.0\n",
      "LR, 0.785, 0.0120, 0.0\n",
      "MLP, 0.884, 0.0158, 0.0\n",
      "DT, 0.764, 0.0247, 0.0\n",
      "RF, 0.891, 0.0093, 0.0\n",
      "XGB, 0.904, 0.0104, 0.0\n",
      "GB, 0.906, 0.0100, 0.0\n",
      "AdaB, 0.860, 0.0105, 0.0\n",
      "Bagging, 0.890, 0.0246, 0.0\n",
      "Total time: 0.17986830870310466  mins\n"
     ]
    }
   ],
   "source": [
    "class_weights = set_weights(y_sm)\n",
    "print(\"Class weights = \", class_weights)\n",
    "\n",
    "df_results = None # all results \n",
    "\n",
    "# try different folds for each subset -> box plots\n",
    "for folds in foldTypes:\n",
    "    df_fold = Pipeline_OuterCV(X_sm, y_sm, label = OutVar, class_weights = class_weights, folds = folds, seed = seed)\n",
    "    df_fold['Dataset'] = OutVar\n",
    "    df_fold['folds'] = folds\n",
    "\n",
    "    # add each result to a summary dataframe\n",
    "    df_results = pd.concat([df_results,df_fold])"
   ]
  },
  {
   "cell_type": "code",
   "execution_count": null,
   "metadata": {},
   "outputs": [],
   "source": []
  },
  {
   "cell_type": "code",
   "execution_count": 129,
   "metadata": {},
   "outputs": [
    {
     "name": "stdout",
     "output_type": "stream",
     "text": [
      "\n",
      "==>> Saving summary ./results/DC.s.LinearSVC20.csv\n"
     ]
    },
    {
     "data": {
      "text/html": [
       "<div>\n",
       "<style scoped>\n",
       "    .dataframe tbody tr th:only-of-type {\n",
       "        vertical-align: middle;\n",
       "    }\n",
       "\n",
       "    .dataframe tbody tr th {\n",
       "        vertical-align: top;\n",
       "    }\n",
       "\n",
       "    .dataframe thead th {\n",
       "        text-align: right;\n",
       "    }\n",
       "</style>\n",
       "<table border=\"1\" class=\"dataframe\">\n",
       "  <thead>\n",
       "    <tr style=\"text-align: right;\">\n",
       "      <th></th>\n",
       "      <th>NB</th>\n",
       "      <th>KNN</th>\n",
       "      <th>LDA</th>\n",
       "      <th>SVM linear</th>\n",
       "      <th>SVM</th>\n",
       "      <th>LR</th>\n",
       "      <th>MLP</th>\n",
       "      <th>DT</th>\n",
       "      <th>RF</th>\n",
       "      <th>XGB</th>\n",
       "      <th>GB</th>\n",
       "      <th>AdaB</th>\n",
       "      <th>Bagging</th>\n",
       "      <th>Dataset</th>\n",
       "      <th>folds</th>\n",
       "    </tr>\n",
       "  </thead>\n",
       "  <tbody>\n",
       "    <tr>\n",
       "      <th>0</th>\n",
       "      <td>0.764193</td>\n",
       "      <td>0.838325</td>\n",
       "      <td>0.780639</td>\n",
       "      <td>0.781694</td>\n",
       "      <td>0.889416</td>\n",
       "      <td>0.784169</td>\n",
       "      <td>0.889843</td>\n",
       "      <td>0.786036</td>\n",
       "      <td>0.890451</td>\n",
       "      <td>0.896457</td>\n",
       "      <td>0.895382</td>\n",
       "      <td>0.862450</td>\n",
       "      <td>0.896173</td>\n",
       "      <td>Class</td>\n",
       "      <td>3</td>\n",
       "    </tr>\n",
       "    <tr>\n",
       "      <th>1</th>\n",
       "      <td>0.795725</td>\n",
       "      <td>0.841358</td>\n",
       "      <td>0.796303</td>\n",
       "      <td>0.798555</td>\n",
       "      <td>0.909768</td>\n",
       "      <td>0.800726</td>\n",
       "      <td>0.899196</td>\n",
       "      <td>0.777027</td>\n",
       "      <td>0.902737</td>\n",
       "      <td>0.919041</td>\n",
       "      <td>0.919528</td>\n",
       "      <td>0.870749</td>\n",
       "      <td>0.915936</td>\n",
       "      <td>Class</td>\n",
       "      <td>3</td>\n",
       "    </tr>\n",
       "    <tr>\n",
       "      <th>2</th>\n",
       "      <td>0.784616</td>\n",
       "      <td>0.840780</td>\n",
       "      <td>0.787923</td>\n",
       "      <td>0.763595</td>\n",
       "      <td>0.886657</td>\n",
       "      <td>0.771508</td>\n",
       "      <td>0.861984</td>\n",
       "      <td>0.729730</td>\n",
       "      <td>0.879920</td>\n",
       "      <td>0.897695</td>\n",
       "      <td>0.904391</td>\n",
       "      <td>0.845427</td>\n",
       "      <td>0.856657</td>\n",
       "      <td>Class</td>\n",
       "      <td>3</td>\n",
       "    </tr>\n",
       "  </tbody>\n",
       "</table>\n",
       "</div>"
      ],
      "text/plain": [
       "         NB       KNN       LDA  SVM linear       SVM        LR       MLP  \\\n",
       "0  0.764193  0.838325  0.780639    0.781694  0.889416  0.784169  0.889843   \n",
       "1  0.795725  0.841358  0.796303    0.798555  0.909768  0.800726  0.899196   \n",
       "2  0.784616  0.840780  0.787923    0.763595  0.886657  0.771508  0.861984   \n",
       "\n",
       "         DT        RF       XGB        GB      AdaB   Bagging Dataset  folds  \n",
       "0  0.786036  0.890451  0.896457  0.895382  0.862450  0.896173   Class      3  \n",
       "1  0.777027  0.902737  0.919041  0.919528  0.870749  0.915936   Class      3  \n",
       "2  0.729730  0.879920  0.897695  0.904391  0.845427  0.856657   Class      3  "
      ]
     },
     "execution_count": 129,
     "metadata": {},
     "output_type": "execute_result"
    }
   ],
   "source": [
    "# save all results\n",
    "summaryFile = './results/DC.s.LinearSVC20.csv'\n",
    "print('\\n==>> Saving summary', summaryFile)\n",
    "df_results.to_csv(summaryFile, index=False)\n",
    "df_results"
   ]
  },
  {
   "cell_type": "code",
   "execution_count": 130,
   "metadata": {},
   "outputs": [
    {
     "data": {
      "text/plain": [
       "['NB',\n",
       " 'KNN',\n",
       " 'LDA',\n",
       " 'SVM linear',\n",
       " 'SVM',\n",
       " 'LR',\n",
       " 'MLP',\n",
       " 'DT',\n",
       " 'RF',\n",
       " 'XGB',\n",
       " 'GB',\n",
       " 'AdaB',\n",
       " 'Bagging']"
      ]
     },
     "execution_count": 130,
     "metadata": {},
     "output_type": "execute_result"
    }
   ],
   "source": [
    "classifierNames = list(df_results.columns)\n",
    "classifierNames.remove('Dataset')\n",
    "classifierNames.remove('folds')\n",
    "classifierNames"
   ]
  },
  {
   "cell_type": "code",
   "execution_count": 131,
   "metadata": {},
   "outputs": [
    {
     "data": {
      "text/plain": [
       "[3]"
      ]
     },
     "execution_count": 131,
     "metadata": {},
     "output_type": "execute_result"
    }
   ],
   "source": [
    "foldTypes = list(set(df_results['folds']))\n",
    "foldTypes.sort()\n",
    "foldTypes"
   ]
  },
  {
   "cell_type": "code",
   "execution_count": null,
   "metadata": {},
   "outputs": [],
   "source": []
  },
  {
   "cell_type": "code",
   "execution_count": 132,
   "metadata": {},
   "outputs": [
    {
     "name": "stdout",
     "output_type": "stream",
     "text": [
      "==> Fold = 3\n"
     ]
    },
    {
     "data": {
      "text/plain": [
       "<Figure size 432x288 with 0 Axes>"
      ]
     },
     "metadata": {},
     "output_type": "display_data"
    },
    {
     "data": {
      "image/png": "[encoded data removed]",
      "text/plain": [
       "<Figure size 1152x864 with 1 Axes>"
      ]
     },
     "metadata": {},
     "output_type": "display_data"
    }
   ],
   "source": [
    "for f in foldTypes:\n",
    "    plt.figure()\n",
    "    plt.clf()\n",
    "    print('==> Fold =', f)\n",
    "    grouped = df_results[df_results['folds']==f].drop(['folds'], axis=1).groupby('Dataset')\n",
    "    grouped.boxplot(figsize=(16,12), return_type='axes')\n",
    "    plt.savefig('./results/DC.s.LinearSVC20.png')\n",
    "    plt.show()"
   ]
  },
  {
   "cell_type": "markdown",
   "metadata": {},
   "source": [
    "Have fun! @muntisa"
   ]
  },
  {
   "cell_type": "code",
   "execution_count": null,
   "metadata": {},
   "outputs": [],
   "source": []
  }
 ],
 "metadata": {
  "kernelspec": {
   "display_name": "Python 3",
   "language": "python",
   "name": "python3"
  },
  "language_info": {
   "codemirror_mode": {
    "name": "ipython",
    "version": 3
   },
   "file_extension": ".py",
   "mimetype": "text/x-python",
   "name": "python",
   "nbconvert_exporter": "python",
   "pygments_lexer": "ipython3",
   "version": "3.7.1"
  }
 },
 "nbformat": 4,
 "nbformat_minor": 2
}
